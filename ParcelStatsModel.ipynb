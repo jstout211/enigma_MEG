{
 "cells": [
  {
   "cell_type": "code",
   "execution_count": 1,
   "metadata": {},
   "outputs": [],
   "source": [
    "import statsmodels.api as sm\n",
    "import statsmodels.formula.api as smf\n",
    "import pandas as pd\n",
    "import numpy as np\n",
    "import os"
   ]
  },
  {
   "cell_type": "code",
   "execution_count": 4,
   "metadata": {},
   "outputs": [
    {
     "name": "stdout",
     "output_type": "stream",
     "text": [
      "Compiled_bandrel.csv      \u001b[0m\u001b[38;5;33mCompiledResults2\u001b[0m/        participants.tsv\r\n",
      "Compiled_bandrel.csvOrig  \u001b[38;5;9mCompiledResults2.tar.gz\u001b[0m  \u001b[38;5;13mSensoryHists.png\u001b[0m\r\n",
      "\u001b[38;5;33mCompiledResults\u001b[0m/          \u001b[38;5;9mCompiledResults.tar.gz\u001b[0m\r\n"
     ]
    }
   ],
   "source": [
    "ls"
   ]
  },
  {
   "cell_type": "code",
   "execution_count": 3,
   "metadata": {},
   "outputs": [],
   "source": [
    "os.chdir(os.environ['HOME']+'/CAMCAN_ageValpha')"
   ]
  },
  {
   "cell_type": "code",
   "execution_count": 6,
   "metadata": {},
   "outputs": [],
   "source": [
    "#dframe=pd.read_csv('Merged_prelim_results_102820.csv')\n",
    "# dframe=pd.read_csv('Merged_demog_parcelstats.csv')\n",
    "parceldat = pd.read_csv('Compiled_bandrel.csv')\n",
    "demographics = pd.read_csv('participants.tsv', delimiter='\\t')"
   ]
  },
  {
   "cell_type": "code",
   "execution_count": 8,
   "metadata": {},
   "outputs": [],
   "source": [
    "parceldat['participant_id']='sub-'+parceldat.HASH_ID"
   ]
  },
  {
   "cell_type": "code",
   "execution_count": 10,
   "metadata": {},
   "outputs": [
    {
     "data": {
      "text/html": [
       "<div>\n",
       "<style scoped>\n",
       "    .dataframe tbody tr th:only-of-type {\n",
       "        vertical-align: middle;\n",
       "    }\n",
       "\n",
       "    .dataframe tbody tr th {\n",
       "        vertical-align: top;\n",
       "    }\n",
       "\n",
       "    .dataframe thead th {\n",
       "        text-align: right;\n",
       "    }\n",
       "</style>\n",
       "<table border=\"1\" class=\"dataframe\">\n",
       "  <thead>\n",
       "    <tr style=\"text-align: right;\">\n",
       "      <th></th>\n",
       "      <th>Parcel</th>\n",
       "      <th>[1, 3]</th>\n",
       "      <th>[3, 6]</th>\n",
       "      <th>[8, 12]</th>\n",
       "      <th>[13, 35]</th>\n",
       "      <th>[35, 55]</th>\n",
       "      <th>AlphaPeak</th>\n",
       "      <th>HASH_ID</th>\n",
       "      <th>participant_id</th>\n",
       "    </tr>\n",
       "  </thead>\n",
       "  <tbody>\n",
       "    <tr>\n",
       "      <th>0</th>\n",
       "      <td>bankssts-lh</td>\n",
       "      <td>0.096746</td>\n",
       "      <td>0.032426</td>\n",
       "      <td>0.042377</td>\n",
       "      <td>0.015600</td>\n",
       "      <td>0.002189</td>\n",
       "      <td>11.275084</td>\n",
       "      <td>CC110033</td>\n",
       "      <td>sub-CC110033</td>\n",
       "    </tr>\n",
       "    <tr>\n",
       "      <th>1</th>\n",
       "      <td>caudalanteriorcingulate-lh</td>\n",
       "      <td>0.103553</td>\n",
       "      <td>0.034024</td>\n",
       "      <td>0.024091</td>\n",
       "      <td>0.013850</td>\n",
       "      <td>0.003946</td>\n",
       "      <td>11.045830</td>\n",
       "      <td>CC110033</td>\n",
       "      <td>sub-CC110033</td>\n",
       "    </tr>\n",
       "    <tr>\n",
       "      <th>2</th>\n",
       "      <td>caudalmiddlefrontal-lh</td>\n",
       "      <td>0.101195</td>\n",
       "      <td>0.034861</td>\n",
       "      <td>0.017976</td>\n",
       "      <td>0.013742</td>\n",
       "      <td>0.004404</td>\n",
       "      <td>NaN</td>\n",
       "      <td>CC110033</td>\n",
       "      <td>sub-CC110033</td>\n",
       "    </tr>\n",
       "    <tr>\n",
       "      <th>3</th>\n",
       "      <td>cuneus-lh</td>\n",
       "      <td>0.048557</td>\n",
       "      <td>0.016545</td>\n",
       "      <td>0.086184</td>\n",
       "      <td>0.012485</td>\n",
       "      <td>0.003347</td>\n",
       "      <td>10.357627</td>\n",
       "      <td>CC110033</td>\n",
       "      <td>sub-CC110033</td>\n",
       "    </tr>\n",
       "    <tr>\n",
       "      <th>4</th>\n",
       "      <td>entorhinal-lh</td>\n",
       "      <td>0.107099</td>\n",
       "      <td>0.034065</td>\n",
       "      <td>0.029936</td>\n",
       "      <td>0.011088</td>\n",
       "      <td>0.003462</td>\n",
       "      <td>11.350128</td>\n",
       "      <td>CC110033</td>\n",
       "      <td>sub-CC110033</td>\n",
       "    </tr>\n",
       "  </tbody>\n",
       "</table>\n",
       "</div>"
      ],
      "text/plain": [
       "                       Parcel    [1, 3]    [3, 6]   [8, 12]  [13, 35]  \\\n",
       "0                 bankssts-lh  0.096746  0.032426  0.042377  0.015600   \n",
       "1  caudalanteriorcingulate-lh  0.103553  0.034024  0.024091  0.013850   \n",
       "2      caudalmiddlefrontal-lh  0.101195  0.034861  0.017976  0.013742   \n",
       "3                   cuneus-lh  0.048557  0.016545  0.086184  0.012485   \n",
       "4               entorhinal-lh  0.107099  0.034065  0.029936  0.011088   \n",
       "\n",
       "   [35, 55]  AlphaPeak   HASH_ID participant_id  \n",
       "0  0.002189  11.275084  CC110033   sub-CC110033  \n",
       "1  0.003946  11.045830  CC110033   sub-CC110033  \n",
       "2  0.004404        NaN  CC110033   sub-CC110033  \n",
       "3  0.003347  10.357627  CC110033   sub-CC110033  \n",
       "4  0.003462  11.350128  CC110033   sub-CC110033  "
      ]
     },
     "execution_count": 10,
     "metadata": {},
     "output_type": "execute_result"
    }
   ],
   "source": [
    "parceldat.head()"
   ]
  },
  {
   "cell_type": "code",
   "execution_count": 11,
   "metadata": {},
   "outputs": [
    {
     "data": {
      "text/html": [
       "<div>\n",
       "<style scoped>\n",
       "    .dataframe tbody tr th:only-of-type {\n",
       "        vertical-align: middle;\n",
       "    }\n",
       "\n",
       "    .dataframe tbody tr th {\n",
       "        vertical-align: top;\n",
       "    }\n",
       "\n",
       "    .dataframe thead th {\n",
       "        text-align: right;\n",
       "    }\n",
       "</style>\n",
       "<table border=\"1\" class=\"dataframe\">\n",
       "  <thead>\n",
       "    <tr style=\"text-align: right;\">\n",
       "      <th></th>\n",
       "      <th>participant_id</th>\n",
       "      <th>age</th>\n",
       "      <th>hand</th>\n",
       "      <th>gender_text</th>\n",
       "      <th>gender_code</th>\n",
       "      <th>tiv_cubicmm</th>\n",
       "    </tr>\n",
       "  </thead>\n",
       "  <tbody>\n",
       "    <tr>\n",
       "      <th>0</th>\n",
       "      <td>sub-CC110033</td>\n",
       "      <td>24</td>\n",
       "      <td>90.0</td>\n",
       "      <td>MALE</td>\n",
       "      <td>1</td>\n",
       "      <td>1411686</td>\n",
       "    </tr>\n",
       "    <tr>\n",
       "      <th>1</th>\n",
       "      <td>sub-CC110037</td>\n",
       "      <td>18</td>\n",
       "      <td>89.0</td>\n",
       "      <td>MALE</td>\n",
       "      <td>1</td>\n",
       "      <td>1391950</td>\n",
       "    </tr>\n",
       "    <tr>\n",
       "      <th>2</th>\n",
       "      <td>sub-CC110045</td>\n",
       "      <td>24</td>\n",
       "      <td>100.0</td>\n",
       "      <td>FEMALE</td>\n",
       "      <td>2</td>\n",
       "      <td>1384737</td>\n",
       "    </tr>\n",
       "    <tr>\n",
       "      <th>3</th>\n",
       "      <td>sub-CC110056</td>\n",
       "      <td>22</td>\n",
       "      <td>100.0</td>\n",
       "      <td>FEMALE</td>\n",
       "      <td>2</td>\n",
       "      <td>1284916</td>\n",
       "    </tr>\n",
       "    <tr>\n",
       "      <th>4</th>\n",
       "      <td>sub-CC110062</td>\n",
       "      <td>20</td>\n",
       "      <td>58.0</td>\n",
       "      <td>MALE</td>\n",
       "      <td>1</td>\n",
       "      <td>1581701</td>\n",
       "    </tr>\n",
       "  </tbody>\n",
       "</table>\n",
       "</div>"
      ],
      "text/plain": [
       "  participant_id  age   hand gender_text  gender_code  tiv_cubicmm\n",
       "0   sub-CC110033   24   90.0        MALE            1      1411686\n",
       "1   sub-CC110037   18   89.0        MALE            1      1391950\n",
       "2   sub-CC110045   24  100.0      FEMALE            2      1384737\n",
       "3   sub-CC110056   22  100.0      FEMALE            2      1284916\n",
       "4   sub-CC110062   20   58.0        MALE            1      1581701"
      ]
     },
     "execution_count": 11,
     "metadata": {},
     "output_type": "execute_result"
    }
   ],
   "source": [
    "demographics.head()"
   ]
  },
  {
   "cell_type": "code",
   "execution_count": 12,
   "metadata": {},
   "outputs": [],
   "source": [
    "dframe=pd.merge(demographics, parceldat, on='participant_id')"
   ]
  },
  {
   "cell_type": "code",
   "execution_count": 13,
   "metadata": {},
   "outputs": [
    {
     "data": {
      "text/plain": [
       "Index(['participant_id', 'age', 'hand', 'gender_text', 'gender_code',\n",
       "       'tiv_cubicmm', 'Parcel', '[1, 3]', '[3, 6]', '[8, 12]', '[13, 35]',\n",
       "       '[35, 55]', 'AlphaPeak', 'HASH_ID'],\n",
       "      dtype='object')"
      ]
     },
     "execution_count": 13,
     "metadata": {},
     "output_type": "execute_result"
    }
   ],
   "source": [
    "dframe.columns"
   ]
  },
  {
   "cell_type": "code",
   "execution_count": 14,
   "metadata": {},
   "outputs": [],
   "source": [
    "def filter_parcel_data(dframe, parcel_name=None, column_name=None):\n",
    "    tmp=dframe[dframe.Parcel==parcel_name]\n",
    "#     return tmp[[column_name, 'AGE', 'SEX']].dropna()\n",
    "    return tmp[[column_name, 'age', 'gender_text']].dropna()"
   ]
  },
  {
   "cell_type": "code",
   "execution_count": 15,
   "metadata": {},
   "outputs": [],
   "source": [
    "rdframe = pd.DataFrame(columns=['parcel_name', 'coeff','rsquared_adj'])"
   ]
  },
  {
   "cell_type": "code",
   "execution_count": 16,
   "metadata": {},
   "outputs": [],
   "source": [
    "rdframe.parcel_name = dframe.Parcel.unique()"
   ]
  },
  {
   "cell_type": "code",
   "execution_count": 17,
   "metadata": {},
   "outputs": [
    {
     "data": {
      "text/html": [
       "<div>\n",
       "<style scoped>\n",
       "    .dataframe tbody tr th:only-of-type {\n",
       "        vertical-align: middle;\n",
       "    }\n",
       "\n",
       "    .dataframe tbody tr th {\n",
       "        vertical-align: top;\n",
       "    }\n",
       "\n",
       "    .dataframe thead th {\n",
       "        text-align: right;\n",
       "    }\n",
       "</style>\n",
       "<table border=\"1\" class=\"dataframe\">\n",
       "  <thead>\n",
       "    <tr style=\"text-align: right;\">\n",
       "      <th></th>\n",
       "      <th>parcel_name</th>\n",
       "      <th>coeff</th>\n",
       "      <th>rsquared_adj</th>\n",
       "    </tr>\n",
       "  </thead>\n",
       "  <tbody>\n",
       "    <tr>\n",
       "      <th>0</th>\n",
       "      <td>bankssts-lh</td>\n",
       "      <td>NaN</td>\n",
       "      <td>NaN</td>\n",
       "    </tr>\n",
       "    <tr>\n",
       "      <th>1</th>\n",
       "      <td>caudalanteriorcingulate-lh</td>\n",
       "      <td>NaN</td>\n",
       "      <td>NaN</td>\n",
       "    </tr>\n",
       "    <tr>\n",
       "      <th>2</th>\n",
       "      <td>caudalmiddlefrontal-lh</td>\n",
       "      <td>NaN</td>\n",
       "      <td>NaN</td>\n",
       "    </tr>\n",
       "    <tr>\n",
       "      <th>3</th>\n",
       "      <td>cuneus-lh</td>\n",
       "      <td>NaN</td>\n",
       "      <td>NaN</td>\n",
       "    </tr>\n",
       "    <tr>\n",
       "      <th>4</th>\n",
       "      <td>entorhinal-lh</td>\n",
       "      <td>NaN</td>\n",
       "      <td>NaN</td>\n",
       "    </tr>\n",
       "    <tr>\n",
       "      <th>...</th>\n",
       "      <td>...</td>\n",
       "      <td>...</td>\n",
       "      <td>...</td>\n",
       "    </tr>\n",
       "    <tr>\n",
       "      <th>63</th>\n",
       "      <td>superiorparietal-rh</td>\n",
       "      <td>NaN</td>\n",
       "      <td>NaN</td>\n",
       "    </tr>\n",
       "    <tr>\n",
       "      <th>64</th>\n",
       "      <td>superiortemporal-rh</td>\n",
       "      <td>NaN</td>\n",
       "      <td>NaN</td>\n",
       "    </tr>\n",
       "    <tr>\n",
       "      <th>65</th>\n",
       "      <td>supramarginal-rh</td>\n",
       "      <td>NaN</td>\n",
       "      <td>NaN</td>\n",
       "    </tr>\n",
       "    <tr>\n",
       "      <th>66</th>\n",
       "      <td>temporalpole-rh</td>\n",
       "      <td>NaN</td>\n",
       "      <td>NaN</td>\n",
       "    </tr>\n",
       "    <tr>\n",
       "      <th>67</th>\n",
       "      <td>transversetemporal-rh</td>\n",
       "      <td>NaN</td>\n",
       "      <td>NaN</td>\n",
       "    </tr>\n",
       "  </tbody>\n",
       "</table>\n",
       "<p>68 rows × 3 columns</p>\n",
       "</div>"
      ],
      "text/plain": [
       "                   parcel_name coeff rsquared_adj\n",
       "0                  bankssts-lh   NaN          NaN\n",
       "1   caudalanteriorcingulate-lh   NaN          NaN\n",
       "2       caudalmiddlefrontal-lh   NaN          NaN\n",
       "3                    cuneus-lh   NaN          NaN\n",
       "4                entorhinal-lh   NaN          NaN\n",
       "..                         ...   ...          ...\n",
       "63         superiorparietal-rh   NaN          NaN\n",
       "64         superiortemporal-rh   NaN          NaN\n",
       "65            supramarginal-rh   NaN          NaN\n",
       "66             temporalpole-rh   NaN          NaN\n",
       "67       transversetemporal-rh   NaN          NaN\n",
       "\n",
       "[68 rows x 3 columns]"
      ]
     },
     "execution_count": 17,
     "metadata": {},
     "output_type": "execute_result"
    }
   ],
   "source": [
    "rdframe"
   ]
  },
  {
   "cell_type": "code",
   "execution_count": 18,
   "metadata": {},
   "outputs": [],
   "source": [
    "for idx, row in rdframe.iterrows():\n",
    "    parc = row['parcel_name']\n",
    "    tmp=filter_parcel_data(dframe, parcel_name=parc, column_name='AlphaPeak')\n",
    "    results = smf.ols('AlphaPeak ~ age', data=tmp).fit()\n",
    "    rdframe.loc[idx, 'rsquared_adj']=results.rsquared_adj\n",
    "    rdframe.loc[idx, 'coeff']=results.params['age']\n",
    "    "
   ]
  },
  {
   "cell_type": "code",
   "execution_count": 19,
   "metadata": {},
   "outputs": [
    {
     "data": {
      "text/plain": [
       "array(['bankssts-lh', 'caudalanteriorcingulate-lh',\n",
       "       'caudalmiddlefrontal-lh', 'cuneus-lh', 'entorhinal-lh',\n",
       "       'frontalpole-lh', 'fusiform-lh', 'inferiorparietal-lh',\n",
       "       'inferiortemporal-lh', 'insula-lh', 'isthmuscingulate-lh',\n",
       "       'lateraloccipital-lh', 'lateralorbitofrontal-lh', 'lingual-lh',\n",
       "       'medialorbitofrontal-lh', 'middletemporal-lh', 'paracentral-lh',\n",
       "       'parahippocampal-lh', 'parsopercularis-lh', 'parsorbitalis-lh',\n",
       "       'parstriangularis-lh', 'pericalcarine-lh', 'postcentral-lh',\n",
       "       'posteriorcingulate-lh', 'precentral-lh', 'precuneus-lh',\n",
       "       'rostralanteriorcingulate-lh', 'rostralmiddlefrontal-lh',\n",
       "       'superiorfrontal-lh', 'superiorparietal-lh', 'superiortemporal-lh',\n",
       "       'supramarginal-lh', 'temporalpole-lh', 'transversetemporal-lh',\n",
       "       'bankssts-rh', 'caudalanteriorcingulate-rh',\n",
       "       'caudalmiddlefrontal-rh', 'cuneus-rh', 'entorhinal-rh',\n",
       "       'frontalpole-rh', 'fusiform-rh', 'inferiorparietal-rh',\n",
       "       'inferiortemporal-rh', 'insula-rh', 'isthmuscingulate-rh',\n",
       "       'lateraloccipital-rh', 'lateralorbitofrontal-rh', 'lingual-rh',\n",
       "       'medialorbitofrontal-rh', 'middletemporal-rh', 'paracentral-rh',\n",
       "       'parahippocampal-rh', 'parsopercularis-rh', 'parsorbitalis-rh',\n",
       "       'parstriangularis-rh', 'pericalcarine-rh', 'postcentral-rh',\n",
       "       'posteriorcingulate-rh', 'precentral-rh', 'precuneus-rh',\n",
       "       'rostralanteriorcingulate-rh', 'rostralmiddlefrontal-rh',\n",
       "       'superiorfrontal-rh', 'superiorparietal-rh', 'superiortemporal-rh',\n",
       "       'supramarginal-rh', 'temporalpole-rh', 'transversetemporal-rh'],\n",
       "      dtype=object)"
      ]
     },
     "execution_count": 19,
     "metadata": {},
     "output_type": "execute_result"
    }
   ],
   "source": [
    "rdframe.parcel_name.values"
   ]
  },
  {
   "cell_type": "code",
   "execution_count": null,
   "metadata": {},
   "outputs": [],
   "source": [
    "#rdframe.to_csv('Prelim_coeffs_Age2.csv')"
   ]
  },
  {
   "cell_type": "code",
   "execution_count": 20,
   "metadata": {},
   "outputs": [],
   "source": [
    "tmp=filter_parcel_data(dframe, parcel_name='superiorfrontal-lh', column_name='AlphaPeak')"
   ]
  },
  {
   "cell_type": "code",
   "execution_count": 21,
   "metadata": {},
   "outputs": [],
   "source": [
    "results = smf.ols('AlphaPeak ~ age', data=tmp).fit()"
   ]
  },
  {
   "cell_type": "code",
   "execution_count": 22,
   "metadata": {},
   "outputs": [
    {
     "name": "stdout",
     "output_type": "stream",
     "text": [
      "                            OLS Regression Results                            \n",
      "==============================================================================\n",
      "Dep. Variable:              AlphaPeak   R-squared:                       0.025\n",
      "Model:                            OLS   Adj. R-squared:                  0.017\n",
      "Method:                 Least Squares   F-statistic:                     3.035\n",
      "Date:                Thu, 03 Dec 2020   Prob (F-statistic):             0.0841\n",
      "Time:                        13:15:21   Log-Likelihood:                -176.39\n",
      "No. Observations:                 121   AIC:                             356.8\n",
      "Df Residuals:                     119   BIC:                             362.4\n",
      "Df Model:                           1                                         \n",
      "Covariance Type:            nonrobust                                         \n",
      "==============================================================================\n",
      "                 coef    std err          t      P>|t|      [0.025      0.975]\n",
      "------------------------------------------------------------------------------\n",
      "Intercept     10.0453      0.250     40.215      0.000       9.551      10.540\n",
      "age           -0.0071      0.004     -1.742      0.084      -0.015       0.001\n",
      "==============================================================================\n",
      "Omnibus:                        7.458   Durbin-Watson:                   1.997\n",
      "Prob(Omnibus):                  0.024   Jarque-Bera (JB):                5.101\n",
      "Skew:                           0.361   Prob(JB):                       0.0780\n",
      "Kurtosis:                       2.299   Cond. No.                         162.\n",
      "==============================================================================\n",
      "\n",
      "Notes:\n",
      "[1] Standard Errors assume that the covariance matrix of the errors is correctly specified.\n"
     ]
    }
   ],
   "source": [
    "print(results.summary())"
   ]
  },
  {
   "cell_type": "code",
   "execution_count": 23,
   "metadata": {},
   "outputs": [],
   "source": [
    "import pylab"
   ]
  },
  {
   "cell_type": "code",
   "execution_count": 24,
   "metadata": {},
   "outputs": [
    {
     "data": {
      "text/plain": [
       "Text(0, 0.5, 'AlphaPeak')"
      ]
     },
     "execution_count": 24,
     "metadata": {},
     "output_type": "execute_result"
    },
    {
     "data": {
      "image/png": "[encoded data removed]",
      "text/plain": [
       "<Figure size 432x288 with 1 Axes>"
      ]
     },
     "metadata": {
      "needs_background": "light"
     },
     "output_type": "display_data"
    }
   ],
   "source": [
    "pylab.scatter(tmp['age'], tmp['AlphaPeak'])\n",
    "pylab.xlabel('age'); pylab.ylabel('AlphaPeak')"
   ]
  },
  {
   "cell_type": "code",
   "execution_count": 25,
   "metadata": {},
   "outputs": [
    {
     "data": {
      "text/plain": [
       "(array([29., 59., 74., 69., 78., 66., 73., 74., 86., 45.]),\n",
       " array([18., 25., 32., 39., 46., 53., 60., 67., 74., 81., 88.]),\n",
       " <BarContainer object of 10 artists>)"
      ]
     },
     "execution_count": 25,
     "metadata": {},
     "output_type": "execute_result"
    },
    {
     "data": {
      "image/png": "[encoded data removed]",
      "text/plain": [
       "<Figure size 432x288 with 1 Axes>"
      ]
     },
     "metadata": {
      "needs_background": "light"
     },
     "output_type": "display_data"
    }
   ],
   "source": [
    "pylab.hist(demographics.age)"
   ]
  },
  {
   "cell_type": "code",
   "execution_count": 27,
   "metadata": {},
   "outputs": [
    {
     "data": {
      "text/plain": [
       "(array([1428., 3264., 1904.,    0.,    0.,  340., 2244., 4284., 5372.,\n",
       "        2584.]),\n",
       " array([18., 25., 32., 39., 46., 53., 60., 67., 74., 81., 88.]),\n",
       " <BarContainer object of 10 artists>)"
      ]
     },
     "execution_count": 27,
     "metadata": {},
     "output_type": "execute_result"
    },
    {
     "data": {
      "image/png": "[encoded data removed]",
      "text/plain": [
       "<Figure size 432x288 with 1 Axes>"
      ]
     },
     "metadata": {
      "needs_background": "light"
     },
     "output_type": "display_data"
    }
   ],
   "source": [
    "pylab.hist(dframe.age)"
   ]
  },
  {
   "cell_type": "code",
   "execution_count": 33,
   "metadata": {},
   "outputs": [
    {
     "data": {
      "text/html": [
       "<div>\n",
       "<style scoped>\n",
       "    .dataframe tbody tr th:only-of-type {\n",
       "        vertical-align: middle;\n",
       "    }\n",
       "\n",
       "    .dataframe tbody tr th {\n",
       "        vertical-align: top;\n",
       "    }\n",
       "\n",
       "    .dataframe thead th {\n",
       "        text-align: right;\n",
       "    }\n",
       "</style>\n",
       "<table border=\"1\" class=\"dataframe\">\n",
       "  <thead>\n",
       "    <tr style=\"text-align: right;\">\n",
       "      <th></th>\n",
       "      <th>parcel_name</th>\n",
       "      <th>coeff</th>\n",
       "      <th>rsquared_adj</th>\n",
       "    </tr>\n",
       "  </thead>\n",
       "  <tbody>\n",
       "    <tr>\n",
       "      <th>0</th>\n",
       "      <td>bankssts-lh</td>\n",
       "      <td>-0.0136088</td>\n",
       "      <td>0.0876725</td>\n",
       "    </tr>\n",
       "    <tr>\n",
       "      <th>1</th>\n",
       "      <td>caudalanteriorcingulate-lh</td>\n",
       "      <td>-0.0108845</td>\n",
       "      <td>0.0636657</td>\n",
       "    </tr>\n",
       "    <tr>\n",
       "      <th>2</th>\n",
       "      <td>caudalmiddlefrontal-lh</td>\n",
       "      <td>-0.00314295</td>\n",
       "      <td>-0.00248981</td>\n",
       "    </tr>\n",
       "    <tr>\n",
       "      <th>3</th>\n",
       "      <td>cuneus-lh</td>\n",
       "      <td>-0.0149252</td>\n",
       "      <td>0.136956</td>\n",
       "    </tr>\n",
       "    <tr>\n",
       "      <th>4</th>\n",
       "      <td>entorhinal-lh</td>\n",
       "      <td>-0.0175722</td>\n",
       "      <td>0.183863</td>\n",
       "    </tr>\n",
       "    <tr>\n",
       "      <th>...</th>\n",
       "      <td>...</td>\n",
       "      <td>...</td>\n",
       "      <td>...</td>\n",
       "    </tr>\n",
       "    <tr>\n",
       "      <th>63</th>\n",
       "      <td>superiorparietal-rh</td>\n",
       "      <td>-0.00938723</td>\n",
       "      <td>0.0471131</td>\n",
       "    </tr>\n",
       "    <tr>\n",
       "      <th>64</th>\n",
       "      <td>superiortemporal-rh</td>\n",
       "      <td>-0.00818938</td>\n",
       "      <td>0.0287532</td>\n",
       "    </tr>\n",
       "    <tr>\n",
       "      <th>65</th>\n",
       "      <td>supramarginal-rh</td>\n",
       "      <td>-0.00807795</td>\n",
       "      <td>0.028811</td>\n",
       "    </tr>\n",
       "    <tr>\n",
       "      <th>66</th>\n",
       "      <td>temporalpole-rh</td>\n",
       "      <td>-0.0142958</td>\n",
       "      <td>0.102821</td>\n",
       "    </tr>\n",
       "    <tr>\n",
       "      <th>67</th>\n",
       "      <td>transversetemporal-rh</td>\n",
       "      <td>-0.0103354</td>\n",
       "      <td>0.0583826</td>\n",
       "    </tr>\n",
       "  </tbody>\n",
       "</table>\n",
       "<p>68 rows × 3 columns</p>\n",
       "</div>"
      ],
      "text/plain": [
       "                   parcel_name       coeff rsquared_adj\n",
       "0                  bankssts-lh  -0.0136088    0.0876725\n",
       "1   caudalanteriorcingulate-lh  -0.0108845    0.0636657\n",
       "2       caudalmiddlefrontal-lh -0.00314295  -0.00248981\n",
       "3                    cuneus-lh  -0.0149252     0.136956\n",
       "4                entorhinal-lh  -0.0175722     0.183863\n",
       "..                         ...         ...          ...\n",
       "63         superiorparietal-rh -0.00938723    0.0471131\n",
       "64         superiortemporal-rh -0.00818938    0.0287532\n",
       "65            supramarginal-rh -0.00807795     0.028811\n",
       "66             temporalpole-rh  -0.0142958     0.102821\n",
       "67       transversetemporal-rh  -0.0103354    0.0583826\n",
       "\n",
       "[68 rows x 3 columns]"
      ]
     },
     "execution_count": 33,
     "metadata": {},
     "output_type": "execute_result"
    }
   ],
   "source": [
    "rdframe"
   ]
  },
  {
   "cell_type": "code",
   "execution_count": 34,
   "metadata": {},
   "outputs": [],
   "source": [
    "rdframe.to_csv('Alpha_vs_age.csv', index=False)"
   ]
  },
  {
   "cell_type": "code",
   "execution_count": null,
   "metadata": {},
   "outputs": [],
   "source": []
  }
 ],
 "metadata": {
  "kernelspec": {
   "display_name": "Python 3",
   "language": "python",
   "name": "python3"
  },
  "language_info": {
   "codemirror_mode": {
    "name": "ipython",
    "version": 3
   },
   "file_extension": ".py",
   "mimetype": "text/x-python",
   "name": "python",
   "nbconvert_exporter": "python",
   "pygments_lexer": "ipython3",
   "version": "3.7.8"
  }
 },
 "nbformat": 4,
 "nbformat_minor": 4
}
